{
  "nbformat": 4,
  "nbformat_minor": 0,
  "metadata": {
    "colab": {
      "provenance": []
    },
    "kernelspec": {
      "name": "python3",
      "display_name": "Python 3"
    },
    "language_info": {
      "name": "python"
    },
    "accelerator": "GPU",
    "gpuClass": "standard"
  },
  "cells": [
    {
      "cell_type": "markdown",
      "source": [
        "Notebook Link: https://colab.research.google.com/drive/1F4Za-tKdeUaqQDomnx6oyTjxo6Q1MHey?usp=sharing\n",
        "\n",
        "codalab username: shashwat.pandey\n",
        "\n",
        "Student ID: spandey7"
      ],
      "metadata": {
        "id": "VYRDRSfXoLDv"
      }
    },
    {
      "cell_type": "markdown",
      "source": [
        "## **Importing Libraries**"
      ],
      "metadata": {
        "id": "OSHK4bUBkZwA"
      }
    },
    {
      "cell_type": "code",
      "source": [
        "import pandas as pd\n",
        "import numpy as np\n",
        "from collections import Counter\n",
        "import random\n",
        "from torch.utils.data import Dataset, DataLoader\n",
        "import torch\n",
        "import torch.nn as nn\n",
        "import torch.nn.functional as F\n",
        "import torch.optim as optim\n",
        "from torch.utils.data import Dataset, DataLoader\n",
        "from sklearn.preprocessing import MultiLabelBinarizer\n",
        "from sklearn.model_selection import train_test_split,cross_val_score\n",
        "from sklearn.metrics import f1_score,accuracy_score,confusion_matrix,make_scorer\n",
        "#Randomizing Training Set\n",
        "seed=1\n",
        "np.random.seed(seed)\n",
        "torch.manual_seed(seed)\n",
        "random.seed(seed)"
      ],
      "metadata": {
        "id": "9Sa1I9wcAZVw"
      },
      "execution_count": 1,
      "outputs": []
    },
    {
      "cell_type": "markdown",
      "source": [
        "## **Loading Dataset**"
      ],
      "metadata": {
        "id": "UcGG8t73ke28"
      }
    },
    {
      "cell_type": "code",
      "source": [
        "train_df=pd.read_csv('/content/drive/MyDrive/NLP243-Assignments/hw2_train_20221024.csv') #Training Set\n",
        "train_df.head()"
      ],
      "metadata": {
        "colab": {
          "base_uri": "https://localhost:8080/",
          "height": 206
        },
        "id": "AOh-q-9pCqtH",
        "outputId": "e42c8b36-28f5-4a3b-8d72-c11736fbd427"
      },
      "execution_count": 2,
      "outputs": [
        {
          "output_type": "execute_result",
          "data": {
            "text/plain": [
              "     ID                                         UTTERANCES  \\\n",
              "0   569                   director for pride and prejudice   \n",
              "1  1132            list some of the best world war 2 films   \n",
              "2  2094  please provide the name of the company that pr...   \n",
              "3   767                          search for russian movies   \n",
              "4  1199                                           rating g   \n",
              "\n",
              "                               IOB SLOT TAGS  \n",
              "0                O O B_movie I_movie I_movie  \n",
              "1  O O O O O B_subject I_subject I_subject O  \n",
              "2                  O O O O O O O O O B_movie  \n",
              "3                            O O B_country O  \n",
              "4                            O B_mpaa_rating  "
            ],
            "text/html": [
              "\n",
              "  <div id=\"df-45d7586e-33d9-4d33-9044-00b6518eb1d5\">\n",
              "    <div class=\"colab-df-container\">\n",
              "      <div>\n",
              "<style scoped>\n",
              "    .dataframe tbody tr th:only-of-type {\n",
              "        vertical-align: middle;\n",
              "    }\n",
              "\n",
              "    .dataframe tbody tr th {\n",
              "        vertical-align: top;\n",
              "    }\n",
              "\n",
              "    .dataframe thead th {\n",
              "        text-align: right;\n",
              "    }\n",
              "</style>\n",
              "<table border=\"1\" class=\"dataframe\">\n",
              "  <thead>\n",
              "    <tr style=\"text-align: right;\">\n",
              "      <th></th>\n",
              "      <th>ID</th>\n",
              "      <th>UTTERANCES</th>\n",
              "      <th>IOB SLOT TAGS</th>\n",
              "    </tr>\n",
              "  </thead>\n",
              "  <tbody>\n",
              "    <tr>\n",
              "      <th>0</th>\n",
              "      <td>569</td>\n",
              "      <td>director for pride and prejudice</td>\n",
              "      <td>O O B_movie I_movie I_movie</td>\n",
              "    </tr>\n",
              "    <tr>\n",
              "      <th>1</th>\n",
              "      <td>1132</td>\n",
              "      <td>list some of the best world war 2 films</td>\n",
              "      <td>O O O O O B_subject I_subject I_subject O</td>\n",
              "    </tr>\n",
              "    <tr>\n",
              "      <th>2</th>\n",
              "      <td>2094</td>\n",
              "      <td>please provide the name of the company that pr...</td>\n",
              "      <td>O O O O O O O O O B_movie</td>\n",
              "    </tr>\n",
              "    <tr>\n",
              "      <th>3</th>\n",
              "      <td>767</td>\n",
              "      <td>search for russian movies</td>\n",
              "      <td>O O B_country O</td>\n",
              "    </tr>\n",
              "    <tr>\n",
              "      <th>4</th>\n",
              "      <td>1199</td>\n",
              "      <td>rating g</td>\n",
              "      <td>O B_mpaa_rating</td>\n",
              "    </tr>\n",
              "  </tbody>\n",
              "</table>\n",
              "</div>\n",
              "      <button class=\"colab-df-convert\" onclick=\"convertToInteractive('df-45d7586e-33d9-4d33-9044-00b6518eb1d5')\"\n",
              "              title=\"Convert this dataframe to an interactive table.\"\n",
              "              style=\"display:none;\">\n",
              "        \n",
              "  <svg xmlns=\"http://www.w3.org/2000/svg\" height=\"24px\"viewBox=\"0 0 24 24\"\n",
              "       width=\"24px\">\n",
              "    <path d=\"M0 0h24v24H0V0z\" fill=\"none\"/>\n",
              "    <path d=\"M18.56 5.44l.94 2.06.94-2.06 2.06-.94-2.06-.94-.94-2.06-.94 2.06-2.06.94zm-11 1L8.5 8.5l.94-2.06 2.06-.94-2.06-.94L8.5 2.5l-.94 2.06-2.06.94zm10 10l.94 2.06.94-2.06 2.06-.94-2.06-.94-.94-2.06-.94 2.06-2.06.94z\"/><path d=\"M17.41 7.96l-1.37-1.37c-.4-.4-.92-.59-1.43-.59-.52 0-1.04.2-1.43.59L10.3 9.45l-7.72 7.72c-.78.78-.78 2.05 0 2.83L4 21.41c.39.39.9.59 1.41.59.51 0 1.02-.2 1.41-.59l7.78-7.78 2.81-2.81c.8-.78.8-2.07 0-2.86zM5.41 20L4 18.59l7.72-7.72 1.47 1.35L5.41 20z\"/>\n",
              "  </svg>\n",
              "      </button>\n",
              "      \n",
              "  <style>\n",
              "    .colab-df-container {\n",
              "      display:flex;\n",
              "      flex-wrap:wrap;\n",
              "      gap: 12px;\n",
              "    }\n",
              "\n",
              "    .colab-df-convert {\n",
              "      background-color: #E8F0FE;\n",
              "      border: none;\n",
              "      border-radius: 50%;\n",
              "      cursor: pointer;\n",
              "      display: none;\n",
              "      fill: #1967D2;\n",
              "      height: 32px;\n",
              "      padding: 0 0 0 0;\n",
              "      width: 32px;\n",
              "    }\n",
              "\n",
              "    .colab-df-convert:hover {\n",
              "      background-color: #E2EBFA;\n",
              "      box-shadow: 0px 1px 2px rgba(60, 64, 67, 0.3), 0px 1px 3px 1px rgba(60, 64, 67, 0.15);\n",
              "      fill: #174EA6;\n",
              "    }\n",
              "\n",
              "    [theme=dark] .colab-df-convert {\n",
              "      background-color: #3B4455;\n",
              "      fill: #D2E3FC;\n",
              "    }\n",
              "\n",
              "    [theme=dark] .colab-df-convert:hover {\n",
              "      background-color: #434B5C;\n",
              "      box-shadow: 0px 1px 3px 1px rgba(0, 0, 0, 0.15);\n",
              "      filter: drop-shadow(0px 1px 2px rgba(0, 0, 0, 0.3));\n",
              "      fill: #FFFFFF;\n",
              "    }\n",
              "  </style>\n",
              "\n",
              "      <script>\n",
              "        const buttonEl =\n",
              "          document.querySelector('#df-45d7586e-33d9-4d33-9044-00b6518eb1d5 button.colab-df-convert');\n",
              "        buttonEl.style.display =\n",
              "          google.colab.kernel.accessAllowed ? 'block' : 'none';\n",
              "\n",
              "        async function convertToInteractive(key) {\n",
              "          const element = document.querySelector('#df-45d7586e-33d9-4d33-9044-00b6518eb1d5');\n",
              "          const dataTable =\n",
              "            await google.colab.kernel.invokeFunction('convertToInteractive',\n",
              "                                                     [key], {});\n",
              "          if (!dataTable) return;\n",
              "\n",
              "          const docLinkHtml = 'Like what you see? Visit the ' +\n",
              "            '<a target=\"_blank\" href=https://colab.research.google.com/notebooks/data_table.ipynb>data table notebook</a>'\n",
              "            + ' to learn more about interactive tables.';\n",
              "          element.innerHTML = '';\n",
              "          dataTable['output_type'] = 'display_data';\n",
              "          await google.colab.output.renderOutput(dataTable, element);\n",
              "          const docLink = document.createElement('div');\n",
              "          docLink.innerHTML = docLinkHtml;\n",
              "          element.appendChild(docLink);\n",
              "        }\n",
              "      </script>\n",
              "    </div>\n",
              "  </div>\n",
              "  "
            ]
          },
          "metadata": {},
          "execution_count": 2
        }
      ]
    },
    {
      "cell_type": "code",
      "source": [
        "test_df=pd.read_csv('/content/drive/MyDrive/NLP243-Assignments/hw2_test.csv') #Test Set\n",
        "test_df.head()"
      ],
      "metadata": {
        "colab": {
          "base_uri": "https://localhost:8080/",
          "height": 206
        },
        "id": "VJPO4tp8Cr9L",
        "outputId": "3f432eef-8d38-4f6e-e75b-27923e0a7b66"
      },
      "execution_count": 3,
      "outputs": [
        {
          "output_type": "execute_result",
          "data": {
            "text/plain": [
              "   ID                               UTTERANCES\n",
              "0   0                             star of thor\n",
              "1   1         who is in the movie the campaign\n",
              "2   2  list the cast of the movie the campaign\n",
              "3   3                      who was in twilight\n",
              "4   4                       who is in vulguria"
            ],
            "text/html": [
              "\n",
              "  <div id=\"df-ee350f09-9699-4885-98c0-2dbf71a439b6\">\n",
              "    <div class=\"colab-df-container\">\n",
              "      <div>\n",
              "<style scoped>\n",
              "    .dataframe tbody tr th:only-of-type {\n",
              "        vertical-align: middle;\n",
              "    }\n",
              "\n",
              "    .dataframe tbody tr th {\n",
              "        vertical-align: top;\n",
              "    }\n",
              "\n",
              "    .dataframe thead th {\n",
              "        text-align: right;\n",
              "    }\n",
              "</style>\n",
              "<table border=\"1\" class=\"dataframe\">\n",
              "  <thead>\n",
              "    <tr style=\"text-align: right;\">\n",
              "      <th></th>\n",
              "      <th>ID</th>\n",
              "      <th>UTTERANCES</th>\n",
              "    </tr>\n",
              "  </thead>\n",
              "  <tbody>\n",
              "    <tr>\n",
              "      <th>0</th>\n",
              "      <td>0</td>\n",
              "      <td>star of thor</td>\n",
              "    </tr>\n",
              "    <tr>\n",
              "      <th>1</th>\n",
              "      <td>1</td>\n",
              "      <td>who is in the movie the campaign</td>\n",
              "    </tr>\n",
              "    <tr>\n",
              "      <th>2</th>\n",
              "      <td>2</td>\n",
              "      <td>list the cast of the movie the campaign</td>\n",
              "    </tr>\n",
              "    <tr>\n",
              "      <th>3</th>\n",
              "      <td>3</td>\n",
              "      <td>who was in twilight</td>\n",
              "    </tr>\n",
              "    <tr>\n",
              "      <th>4</th>\n",
              "      <td>4</td>\n",
              "      <td>who is in vulguria</td>\n",
              "    </tr>\n",
              "  </tbody>\n",
              "</table>\n",
              "</div>\n",
              "      <button class=\"colab-df-convert\" onclick=\"convertToInteractive('df-ee350f09-9699-4885-98c0-2dbf71a439b6')\"\n",
              "              title=\"Convert this dataframe to an interactive table.\"\n",
              "              style=\"display:none;\">\n",
              "        \n",
              "  <svg xmlns=\"http://www.w3.org/2000/svg\" height=\"24px\"viewBox=\"0 0 24 24\"\n",
              "       width=\"24px\">\n",
              "    <path d=\"M0 0h24v24H0V0z\" fill=\"none\"/>\n",
              "    <path d=\"M18.56 5.44l.94 2.06.94-2.06 2.06-.94-2.06-.94-.94-2.06-.94 2.06-2.06.94zm-11 1L8.5 8.5l.94-2.06 2.06-.94-2.06-.94L8.5 2.5l-.94 2.06-2.06.94zm10 10l.94 2.06.94-2.06 2.06-.94-2.06-.94-.94-2.06-.94 2.06-2.06.94z\"/><path d=\"M17.41 7.96l-1.37-1.37c-.4-.4-.92-.59-1.43-.59-.52 0-1.04.2-1.43.59L10.3 9.45l-7.72 7.72c-.78.78-.78 2.05 0 2.83L4 21.41c.39.39.9.59 1.41.59.51 0 1.02-.2 1.41-.59l7.78-7.78 2.81-2.81c.8-.78.8-2.07 0-2.86zM5.41 20L4 18.59l7.72-7.72 1.47 1.35L5.41 20z\"/>\n",
              "  </svg>\n",
              "      </button>\n",
              "      \n",
              "  <style>\n",
              "    .colab-df-container {\n",
              "      display:flex;\n",
              "      flex-wrap:wrap;\n",
              "      gap: 12px;\n",
              "    }\n",
              "\n",
              "    .colab-df-convert {\n",
              "      background-color: #E8F0FE;\n",
              "      border: none;\n",
              "      border-radius: 50%;\n",
              "      cursor: pointer;\n",
              "      display: none;\n",
              "      fill: #1967D2;\n",
              "      height: 32px;\n",
              "      padding: 0 0 0 0;\n",
              "      width: 32px;\n",
              "    }\n",
              "\n",
              "    .colab-df-convert:hover {\n",
              "      background-color: #E2EBFA;\n",
              "      box-shadow: 0px 1px 2px rgba(60, 64, 67, 0.3), 0px 1px 3px 1px rgba(60, 64, 67, 0.15);\n",
              "      fill: #174EA6;\n",
              "    }\n",
              "\n",
              "    [theme=dark] .colab-df-convert {\n",
              "      background-color: #3B4455;\n",
              "      fill: #D2E3FC;\n",
              "    }\n",
              "\n",
              "    [theme=dark] .colab-df-convert:hover {\n",
              "      background-color: #434B5C;\n",
              "      box-shadow: 0px 1px 3px 1px rgba(0, 0, 0, 0.15);\n",
              "      filter: drop-shadow(0px 1px 2px rgba(0, 0, 0, 0.3));\n",
              "      fill: #FFFFFF;\n",
              "    }\n",
              "  </style>\n",
              "\n",
              "      <script>\n",
              "        const buttonEl =\n",
              "          document.querySelector('#df-ee350f09-9699-4885-98c0-2dbf71a439b6 button.colab-df-convert');\n",
              "        buttonEl.style.display =\n",
              "          google.colab.kernel.accessAllowed ? 'block' : 'none';\n",
              "\n",
              "        async function convertToInteractive(key) {\n",
              "          const element = document.querySelector('#df-ee350f09-9699-4885-98c0-2dbf71a439b6');\n",
              "          const dataTable =\n",
              "            await google.colab.kernel.invokeFunction('convertToInteractive',\n",
              "                                                     [key], {});\n",
              "          if (!dataTable) return;\n",
              "\n",
              "          const docLinkHtml = 'Like what you see? Visit the ' +\n",
              "            '<a target=\"_blank\" href=https://colab.research.google.com/notebooks/data_table.ipynb>data table notebook</a>'\n",
              "            + ' to learn more about interactive tables.';\n",
              "          element.innerHTML = '';\n",
              "          dataTable['output_type'] = 'display_data';\n",
              "          await google.colab.output.renderOutput(dataTable, element);\n",
              "          const docLink = document.createElement('div');\n",
              "          docLink.innerHTML = docLinkHtml;\n",
              "          element.appendChild(docLink);\n",
              "        }\n",
              "      </script>\n",
              "    </div>\n",
              "  </div>\n",
              "  "
            ]
          },
          "metadata": {},
          "execution_count": 3
        }
      ]
    },
    {
      "cell_type": "markdown",
      "source": [
        "## **Train-Test Split and Preprocessing**"
      ],
      "metadata": {
        "id": "kwDQawU8kmMc"
      }
    },
    {
      "cell_type": "code",
      "source": [
        "x_test=test_df['UTTERANCES'].values\n",
        "#Using traintestsplit to create training and validation set\n",
        "x_train, x_val, y_train, y_val = train_test_split(train_df['UTTERANCES'].values, train_df['IOB SLOT TAGS'].values, \n",
        "                                test_size=0.2, random_state=1, shuffle=True)"
      ],
      "metadata": {
        "id": "7pQsDI2kAmY0"
      },
      "execution_count": 4,
      "outputs": []
    },
    {
      "cell_type": "code",
      "source": [
        "#Creating vocabulary list from utterances\n",
        "all_sents=x_train.tolist()+x_val.tolist()+x_test.tolist()\n",
        "vocab=[]\n",
        "for i in all_sents:\n",
        "    vocab+=i.split(\" \")\n",
        "vocab=set(vocab)\n",
        "print ('Vocab length:',len(vocab))"
      ],
      "metadata": {
        "colab": {
          "base_uri": "https://localhost:8080/"
        },
        "id": "tiV5rcUbBDxg",
        "outputId": "6029febf-1cc2-4efb-c420-35dfe4a02036"
      },
      "execution_count": 5,
      "outputs": [
        {
          "output_type": "stream",
          "name": "stdout",
          "text": [
            "Vocab length: 1481\n"
          ]
        }
      ]
    },
    {
      "cell_type": "code",
      "source": [
        "#Padding the utterances for uniform length and creating their key value pairs with unique identifiers\n",
        "vocab=['<PAD>']+list(vocab)\n",
        "word2idx={vocab[i]:i for i in range(len(vocab))}\n",
        "idx2word={i:vocab[i] for i in range(len(vocab))}\n",
        "assert len(word2idx)==len(idx2word)"
      ],
      "metadata": {
        "id": "H6toPI1MBFQS"
      },
      "execution_count": 6,
      "outputs": []
    },
    {
      "cell_type": "code",
      "source": [
        "#Creating label/tag list\n",
        "all_tags=y_train.tolist()+y_val.tolist()\n",
        "tags=[]\n",
        "for i in all_tags:\n",
        "    tags+=i.split()\n",
        "tags=set(tags)\n",
        "print ('tags length:',len(tags))"
      ],
      "metadata": {
        "colab": {
          "base_uri": "https://localhost:8080/"
        },
        "id": "5wwed1FCBGnA",
        "outputId": "3f1d6fd0-826e-475e-8c95-53cb06fc0bf0"
      },
      "execution_count": 7,
      "outputs": [
        {
          "output_type": "stream",
          "name": "stdout",
          "text": [
            "tags length: 27\n"
          ]
        }
      ]
    },
    {
      "cell_type": "code",
      "source": [
        "#Padding the tags for uniform length and creating their key value pairs with unique identifiers\n",
        "tags=['<PAD>']+list(tags)\n",
        "tag2idx={tags[i]:i for i in range(len(tags))}\n",
        "idx2tag={i:tags[i] for i in range(len(tags))}\n",
        "assert len(tag2idx)==len(idx2tag)\n"
      ],
      "metadata": {
        "id": "SbAwJa8pBID0"
      },
      "execution_count": 8,
      "outputs": []
    },
    {
      "cell_type": "code",
      "source": [
        "#Vectorizing Vocabulary and Tags\n",
        "def vectorize_vocab(word2idx,*argv):\n",
        "    groups=[]\n",
        "    for sents in argv[0]:\n",
        "        groups.append([[word2idx[j] for j in i.split()] for i in sents])\n",
        "    return groups\n",
        "\n",
        "x_train,x_val,x_test=vectorize_vocab(word2idx,[x_train,x_val,x_test])\n",
        "max_len=max([len(i) for i in x_train])\n",
        "\n",
        "y_train,y_val=vectorize_vocab(tag2idx,[y_train,y_val])\n",
        "assert max_len==max([len(i) for i in y_train])"
      ],
      "metadata": {
        "id": "_uhmjucPAcjN"
      },
      "execution_count": 9,
      "outputs": []
    },
    {
      "cell_type": "markdown",
      "source": [
        "## **Data Loader**"
      ],
      "metadata": {
        "id": "QEPmFHQRksrQ"
      }
    },
    {
      "cell_type": "code",
      "source": [
        "class MovieData(Dataset):\n",
        "    def __init__(self, X, y):\n",
        "      #Converting arrays to tensors of torch\n",
        "        try:\n",
        "            self.X = torch.tensor(X)\n",
        "        except ValueError as e:\n",
        "            self.X = [torch.tensor(i) for i in X]\n",
        "        self.y = [torch.tensor(i) for i in y]\n",
        "\n",
        "    def __len__(self):\n",
        "        return len(self.y)\n",
        "\n",
        "    def __getitem__(self,index):\n",
        "        return self.X[index], self.y[index]\n",
        "\n",
        "#Checking tensor length\n",
        "def sort_batch(x):\n",
        "    longest = max([len(i[0]) for i in x]) + 1\n",
        "    s=torch.stack([torch.concat([i[0],torch.zeros(longest-len(i[0])).long()]) for i in x])\n",
        "    l=torch.stack([torch.concat([i[1],torch.zeros(longest-len(i[1])).long()]) for i in x])\n",
        "    return s,l"
      ],
      "metadata": {
        "id": "eDY7l7LcATa_"
      },
      "execution_count": 10,
      "outputs": []
    },
    {
      "cell_type": "code",
      "source": [
        "train_dataset = MovieData(X=x_train,y=y_train)\n",
        "val_dataset = MovieData(X=x_val,y=y_val)\n",
        "bs=32\n",
        "#DataLoader Definition\n",
        "train_dataloader = DataLoader(dataset=train_dataset,collate_fn=sort_batch,batch_size=bs,shuffle=True)\n",
        "val_dataloader = DataLoader(dataset=val_dataset,collate_fn=sort_batch,batch_size=bs,shuffle=True)"
      ],
      "metadata": {
        "id": "IrQRzMpMAKn9"
      },
      "execution_count": 11,
      "outputs": []
    },
    {
      "cell_type": "markdown",
      "source": [
        "## **Model Class**"
      ],
      "metadata": {
        "id": "smnrKSA1kvpJ"
      }
    },
    {
      "cell_type": "code",
      "source": [
        "#Class for a 3 layer LSTM Model\n",
        "class LSTM_1(nn.Module):\n",
        "    def __init__(self,vocab_size,embed_dim,num_class,hidden_size,padding_index=0):\n",
        "        super(LSTM_1,self).__init__()\n",
        "        self.emb = nn.Embedding(vocab_size, embed_dim, padding_idx=padding_index) #Layer 1\n",
        "        self.dropout = nn.Dropout(0.2) #Layer 2\n",
        "        self.rnn=nn.LSTM(input_size=embed_dim,hidden_size=hidden_size,num_layers=2,batch_first=True,bidirectional=True) #Layer 3\n",
        "        self.fc1= nn.Linear(hidden_size*2,num_class) #Layer 4 (to match output dimension)\n",
        "    def forward(self,x):\n",
        "        x=self.dropout(self.emb(x))\n",
        "        out,h_n=self.rnn(x)\n",
        "        h1=self.fc1(out)\n",
        "        h2=h1.view(-1, h1.shape[-1]) #Reshaping tensors from 3D to 2D\n",
        "        return h2\n",
        "\n",
        "embed_size=300 #Embedding layer dimension\n",
        "hidden_size=64 #Hidden Layer dimensions\n",
        "loss_func = nn.CrossEntropyLoss()\n"
      ],
      "metadata": {
        "id": "N4zCOwyD-Qoe"
      },
      "execution_count": 12,
      "outputs": []
    },
    {
      "cell_type": "code",
      "source": [
        "clf = LSTM_1(vocab_size=len(vocab),embed_dim=embed_size,num_class=len(tags),hidden_size=hidden_size) #Creating Model Object\n",
        "learning_rate=0.01\n",
        "num_epochs=15\n",
        "optimizer = optim.Adam(clf.parameters(), lr=learning_rate)\n",
        "losses = []\n",
        "train_losses,train_acc = [],[]\n",
        "val_losses, val_acc=[],[]\n",
        "min_loss=1000\n",
        "total_step=len(train_dataloader)"
      ],
      "metadata": {
        "id": "Y3LDl1cW-LOf"
      },
      "execution_count": 13,
      "outputs": []
    },
    {
      "cell_type": "markdown",
      "source": [
        "## **Training Loop**"
      ],
      "metadata": {
        "id": "_61QL0zplZcL"
      }
    },
    {
      "cell_type": "code",
      "source": [
        "for epoch in range(num_epochs): #Running Epoch loop\n",
        "    train_loss,correct=0,0\n",
        "    total_tags=0\n",
        "    total_val_tags=0\n",
        "    for i,(X,y) in enumerate(train_dataloader): #Training evaluation loop for each batch size\n",
        "        optimizer.zero_grad()\n",
        "        y_pred = clf(X)\n",
        "        y=y.view(-1)\n",
        "        loss = loss_func(y_pred, y)\n",
        "        train_loss+=loss.item()\n",
        "        y_pred=torch.argmax(y_pred,dim=1)\n",
        "        y_pred,y=y_pred.flatten(),y.flatten()\n",
        "        correct+= (y_pred==y).sum().item()\n",
        "        total_tags+=y.shape[0]     \n",
        "        loss.backward()\n",
        "        optimizer.step()\n",
        "        if (i+1) % 50 == 0:\n",
        "            print ('Epoch [{}/{}], Step [{}/{}], Loss: {:.4f}'.format(epoch+1, num_epochs, i+1, total_step, loss.item()))\n",
        "\n",
        "    train_loss=round(train_loss/len(val_dataloader),3)\n",
        "    acc=round(100*correct/total_tags,3)\n",
        "    train_losses.append(train_loss)\n",
        "    train_acc.append(acc)\n",
        "    print (f\"Train loss: {train_loss} Train accuracy: {acc}\")  \n",
        "    val_loss,correct=0,0\n",
        "    for i,(X,y) in enumerate(val_dataloader): #Validation evaluation loop for each batch size\n",
        "        y_pred = clf(X)\n",
        "        y=y.view(-1)\n",
        "        loss = loss_func(y_pred, y)\n",
        "        val_loss+= round(loss.item(),3)\n",
        "        y_pred=torch.argmax(y_pred,dim=1)\n",
        "        y_pred,y=y_pred.flatten(),y.flatten()\n",
        "        correct+= (y_pred==y).sum().item()\n",
        "        total_val_tags+=len(y)\n",
        "        \n",
        "    val_loss=round(val_loss/len(val_dataloader),3)\n",
        "    if(val_loss<min_loss):\n",
        "        print ('\\nSaving best model...')\n",
        "        min_loss=val_loss\n",
        "        torch.save(clf.state_dict(), './best_model.pt')\n",
        "\n",
        "    val_losses.append(val_loss)\n",
        "    acc=round(100*correct/total_val_tags,3)\n",
        "    val_acc.append(acc)\n",
        "    print (f'Valid loss: {val_loss} Valid acc: {acc}')\n",
        "    print ('\\n'+'='*20)"
      ],
      "metadata": {
        "id": "KCENPwCb79OO"
      },
      "execution_count": null,
      "outputs": []
    },
    {
      "cell_type": "markdown",
      "source": [
        "## **Training Plot**"
      ],
      "metadata": {
        "id": "SVzHaWrIldiU"
      }
    },
    {
      "cell_type": "code",
      "source": [
        "import matplotlib.pyplot as plt\n",
        "import numpy as np\n",
        "#Plotting Accuracy and Loss Graphs\n",
        "def plot_graph(plot_var,train_plot_list,val_plot_list):\n",
        "    epochs = len(train_plot_list)\n",
        "    fig = plt.figure(figsize=(8,6))\n",
        "    if plot_var==\"accuracy\": plt.title(\"Train/Validation Accuracy\")\n",
        "    elif plot_var ==\"loss\" : plt.title(\"Train/Validation Loss\")\n",
        "    plt.plot(list(np.arange(epochs) + 1) , train_plot_list, label='train')\n",
        "    plt.plot(list(np.arange(epochs) + 1), val_plot_list, label='validation')\n",
        "    plt.xlabel('num_epochs', fontsize=12)\n",
        "    plt.ylabel('loss', fontsize=12)\n",
        "    plt.legend(loc='best')\n",
        "    if plot_var==\"accuracy\": plt.savefig('Train_Val_accuracy.png')\n",
        "    elif plot_var ==\"loss\" : plt.savefig(\"Train_Val_loss.png\")\n",
        "    return"
      ],
      "metadata": {
        "id": "5ae6TvEYJIu9"
      },
      "execution_count": 15,
      "outputs": []
    },
    {
      "cell_type": "code",
      "source": [
        "plot_graph(\"accuracy\",train_acc, val_acc)\n",
        "plot_graph(\"loss\",train_losses, val_losses)"
      ],
      "metadata": {
        "colab": {
          "base_uri": "https://localhost:8080/",
          "height": 797
        },
        "id": "ecJgK09aJJuM",
        "outputId": "84a9e02e-366a-4525-87a2-219126c36821"
      },
      "execution_count": 16,
      "outputs": [
        {
          "output_type": "display_data",
          "data": {
            "text/plain": [
              "<Figure size 576x432 with 1 Axes>"
            ],
            "image/png": "[encoded data removed]"
          },
          "metadata": {
            "needs_background": "light"
          }
        },
        {
          "output_type": "display_data",
          "data": {
            "text/plain": [
              "<Figure size 576x432 with 1 Axes>"
            ],
            "image/png": "[encoded data removed]"
          },
          "metadata": {
            "needs_background": "light"
          }
        }
      ]
    },
    {
      "cell_type": "markdown",
      "source": [
        "## **Prediction**"
      ],
      "metadata": {
        "id": "oUBYmOU8lhkA"
      }
    },
    {
      "cell_type": "code",
      "source": [
        "preds=[] #List for each tag\n",
        "preds_sent=[] #List of string of tags for every utterance\n",
        "for i,X in enumerate(x_test):\n",
        "    y_pred = clf(torch.tensor(X).unsqueeze(0))\n",
        "    y_pred=torch.argmax(y_pred,dim=1)\n",
        "    preds_sent.append(y_pred.detach().numpy().tolist())\n",
        "    preds+=y_pred.detach().numpy().tolist()\n",
        "\n",
        "preds=[idx2tag[i] for i in preds]\n",
        "preds_sent=[(' ').join([idx2tag[j] for j in i]) for i in preds_sent]\n",
        "preds_ = pd.DataFrame(zip(range(len(preds_sent)),preds_sent),columns=['ID','IOB Slot tags'])\n",
        "preds_.head()"
      ],
      "metadata": {
        "colab": {
          "base_uri": "https://localhost:8080/",
          "height": 206
        },
        "id": "e2K7EOC7BUP6",
        "outputId": "395c1510-beb6-4da3-dc5f-fedada8e2695"
      },
      "execution_count": 17,
      "outputs": [
        {
          "output_type": "execute_result",
          "data": {
            "text/plain": [
              "   ID                IOB Slot tags\n",
              "0   0                  O O B_movie\n",
              "1   1    O O O O O B_movie I_movie\n",
              "2   2  O O O O O O B_movie I_movie\n",
              "3   3                O O O B_movie\n",
              "4   4                O O O B_movie"
            ],
            "text/html": [
              "\n",
              "  <div id=\"df-8d1c378d-75d5-4ef2-8fd9-1bf4978c9ab6\">\n",
              "    <div class=\"colab-df-container\">\n",
              "      <div>\n",
              "<style scoped>\n",
              "    .dataframe tbody tr th:only-of-type {\n",
              "        vertical-align: middle;\n",
              "    }\n",
              "\n",
              "    .dataframe tbody tr th {\n",
              "        vertical-align: top;\n",
              "    }\n",
              "\n",
              "    .dataframe thead th {\n",
              "        text-align: right;\n",
              "    }\n",
              "</style>\n",
              "<table border=\"1\" class=\"dataframe\">\n",
              "  <thead>\n",
              "    <tr style=\"text-align: right;\">\n",
              "      <th></th>\n",
              "      <th>ID</th>\n",
              "      <th>IOB Slot tags</th>\n",
              "    </tr>\n",
              "  </thead>\n",
              "  <tbody>\n",
              "    <tr>\n",
              "      <th>0</th>\n",
              "      <td>0</td>\n",
              "      <td>O O B_movie</td>\n",
              "    </tr>\n",
              "    <tr>\n",
              "      <th>1</th>\n",
              "      <td>1</td>\n",
              "      <td>O O O O O B_movie I_movie</td>\n",
              "    </tr>\n",
              "    <tr>\n",
              "      <th>2</th>\n",
              "      <td>2</td>\n",
              "      <td>O O O O O O B_movie I_movie</td>\n",
              "    </tr>\n",
              "    <tr>\n",
              "      <th>3</th>\n",
              "      <td>3</td>\n",
              "      <td>O O O B_movie</td>\n",
              "    </tr>\n",
              "    <tr>\n",
              "      <th>4</th>\n",
              "      <td>4</td>\n",
              "      <td>O O O B_movie</td>\n",
              "    </tr>\n",
              "  </tbody>\n",
              "</table>\n",
              "</div>\n",
              "      <button class=\"colab-df-convert\" onclick=\"convertToInteractive('df-8d1c378d-75d5-4ef2-8fd9-1bf4978c9ab6')\"\n",
              "              title=\"Convert this dataframe to an interactive table.\"\n",
              "              style=\"display:none;\">\n",
              "        \n",
              "  <svg xmlns=\"http://www.w3.org/2000/svg\" height=\"24px\"viewBox=\"0 0 24 24\"\n",
              "       width=\"24px\">\n",
              "    <path d=\"M0 0h24v24H0V0z\" fill=\"none\"/>\n",
              "    <path d=\"M18.56 5.44l.94 2.06.94-2.06 2.06-.94-2.06-.94-.94-2.06-.94 2.06-2.06.94zm-11 1L8.5 8.5l.94-2.06 2.06-.94-2.06-.94L8.5 2.5l-.94 2.06-2.06.94zm10 10l.94 2.06.94-2.06 2.06-.94-2.06-.94-.94-2.06-.94 2.06-2.06.94z\"/><path d=\"M17.41 7.96l-1.37-1.37c-.4-.4-.92-.59-1.43-.59-.52 0-1.04.2-1.43.59L10.3 9.45l-7.72 7.72c-.78.78-.78 2.05 0 2.83L4 21.41c.39.39.9.59 1.41.59.51 0 1.02-.2 1.41-.59l7.78-7.78 2.81-2.81c.8-.78.8-2.07 0-2.86zM5.41 20L4 18.59l7.72-7.72 1.47 1.35L5.41 20z\"/>\n",
              "  </svg>\n",
              "      </button>\n",
              "      \n",
              "  <style>\n",
              "    .colab-df-container {\n",
              "      display:flex;\n",
              "      flex-wrap:wrap;\n",
              "      gap: 12px;\n",
              "    }\n",
              "\n",
              "    .colab-df-convert {\n",
              "      background-color: #E8F0FE;\n",
              "      border: none;\n",
              "      border-radius: 50%;\n",
              "      cursor: pointer;\n",
              "      display: none;\n",
              "      fill: #1967D2;\n",
              "      height: 32px;\n",
              "      padding: 0 0 0 0;\n",
              "      width: 32px;\n",
              "    }\n",
              "\n",
              "    .colab-df-convert:hover {\n",
              "      background-color: #E2EBFA;\n",
              "      box-shadow: 0px 1px 2px rgba(60, 64, 67, 0.3), 0px 1px 3px 1px rgba(60, 64, 67, 0.15);\n",
              "      fill: #174EA6;\n",
              "    }\n",
              "\n",
              "    [theme=dark] .colab-df-convert {\n",
              "      background-color: #3B4455;\n",
              "      fill: #D2E3FC;\n",
              "    }\n",
              "\n",
              "    [theme=dark] .colab-df-convert:hover {\n",
              "      background-color: #434B5C;\n",
              "      box-shadow: 0px 1px 3px 1px rgba(0, 0, 0, 0.15);\n",
              "      filter: drop-shadow(0px 1px 2px rgba(0, 0, 0, 0.3));\n",
              "      fill: #FFFFFF;\n",
              "    }\n",
              "  </style>\n",
              "\n",
              "      <script>\n",
              "        const buttonEl =\n",
              "          document.querySelector('#df-8d1c378d-75d5-4ef2-8fd9-1bf4978c9ab6 button.colab-df-convert');\n",
              "        buttonEl.style.display =\n",
              "          google.colab.kernel.accessAllowed ? 'block' : 'none';\n",
              "\n",
              "        async function convertToInteractive(key) {\n",
              "          const element = document.querySelector('#df-8d1c378d-75d5-4ef2-8fd9-1bf4978c9ab6');\n",
              "          const dataTable =\n",
              "            await google.colab.kernel.invokeFunction('convertToInteractive',\n",
              "                                                     [key], {});\n",
              "          if (!dataTable) return;\n",
              "\n",
              "          const docLinkHtml = 'Like what you see? Visit the ' +\n",
              "            '<a target=\"_blank\" href=https://colab.research.google.com/notebooks/data_table.ipynb>data table notebook</a>'\n",
              "            + ' to learn more about interactive tables.';\n",
              "          element.innerHTML = '';\n",
              "          dataTable['output_type'] = 'display_data';\n",
              "          await google.colab.output.renderOutput(dataTable, element);\n",
              "          const docLink = document.createElement('div');\n",
              "          docLink.innerHTML = docLinkHtml;\n",
              "          element.appendChild(docLink);\n",
              "        }\n",
              "      </script>\n",
              "    </div>\n",
              "  </div>\n",
              "  "
            ]
          },
          "metadata": {},
          "execution_count": 17
        }
      ]
    },
    {
      "cell_type": "code",
      "source": [
        "preds_ = preds_.astype({'IOB Slot tags':'string'})"
      ],
      "metadata": {
        "id": "6qRPz21MPdaP"
      },
      "execution_count": 18,
      "outputs": []
    },
    {
      "cell_type": "code",
      "source": [
        "preds_[\"IOB Slot tags\"] = preds_[\"IOB Slot tags\"].str.replace(\"<PAD>\",'O')"
      ],
      "metadata": {
        "id": "E8kzX2FBQLGb"
      },
      "execution_count": 19,
      "outputs": []
    },
    {
      "cell_type": "code",
      "source": [
        "preds_.to_csv('./submission.csv',index=None)"
      ],
      "metadata": {
        "id": "4Kl_Dt-KPLjw"
      },
      "execution_count": 20,
      "outputs": []
    }
  ]
}